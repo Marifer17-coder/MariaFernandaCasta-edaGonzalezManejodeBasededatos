{
 "cells": [
  {
   "cell_type": "code",
   "execution_count": 1,
   "id": "b9690042",
   "metadata": {},
   "outputs": [],
   "source": [
    "#Maria Fernanda Castañeda Gonzalez\n",
    "import sqlite3"
   ]
  },
  {
   "cell_type": "code",
   "execution_count": 2,
   "id": "fc58aae1",
   "metadata": {},
   "outputs": [],
   "source": [
    "#Maria Fernanda Castañeda Gonzalez\n",
    "conexion = sqlite3.connect(\"practica.db\")\n",
    "cursor = conexion.cursor()\n",
    "\n",
    "#creamos una tabla llamada estudiantes\n",
    "cursor.execute(\"CREATE TABLE estudiantes (email VARCHAR(100), carrera VARCHAR(100), nombre VARCHAR(100), edad INTEGER)\")\n",
    "\n",
    "conexion.close()"
   ]
  },
  {
   "cell_type": "code",
   "execution_count": 3,
   "id": "6e885979",
   "metadata": {},
   "outputs": [],
   "source": [
    "#Maria Fernanda Castañeda Gonzalez\n",
    "conexion = sqlite3.connect(\"practica.db\")\n",
    "\n",
    "#Creamos el cursor\n",
    "cursor = conexion.cursor()\n",
    "\n",
    "conexion.close()"
   ]
  },
  {
   "cell_type": "code",
   "execution_count": 4,
   "id": "0f661d32",
   "metadata": {},
   "outputs": [],
   "source": [
    "#Maria Fernanda Castañeda Gonzalez\n",
    "conexion = sqlite3.connect(\"practica.db\")\n",
    "cursor = conexion.cursor()\n",
    "\n",
    "#Insertamos un registro\n",
    "cursor.execute(\"INSERT INTO estudiantes VALUES ('marifer_cast17@gmail.com', 'Artes', 'Sharon', 27)\")\n",
    "\n",
    "#Guardamos los cambios haciendo un commit\n",
    "conexion.commit()\n",
    "\n",
    "conexion.close()"
   ]
  },
  {
   "cell_type": "code",
   "execution_count": 6,
   "id": "bac78138",
   "metadata": {},
   "outputs": [
    {
     "name": "stdout",
     "output_type": "stream",
     "text": [
      "('marifer_cast17@gmail.com', 'Artes', 'Sharon', 27)\n"
     ]
    }
   ],
   "source": [
    "#Maria Fernanda Castañeda Gonzalez\n",
    "conexion = sqlite3.connect(\"practica.db\")\n",
    "cursor = conexion.cursor()\n",
    "\n",
    "#Seleccionamos todos los registros en la tabla\n",
    "cursor.execute(\"SELECT * FROM estudiantes\")\n",
    "\n",
    "usuarios = cursor.fetchone()\n",
    "print(usuarios)"
   ]
  },
  {
   "cell_type": "code",
   "execution_count": 7,
   "id": "c557c61e",
   "metadata": {},
   "outputs": [],
   "source": [
    "#Maria Fernanda Castañeda Gonzalez\n",
    "conexion = sqlite3.connect(\"practica.db\")\n",
    "cursor = conexion.cursor()\n",
    "\n",
    "#Maria Fernanda Castañeda Gonzalez\n",
    "usuarios = [\n",
    "    ('parrillaexquisita@vip.com','Arquitectura','Giulia', 26),\n",
    "    ('lollipopbusiness@vip.com', 'Contaduria', 'Rosana', 60),\n",
    "    ('solfernandez@googlemail.com', 'Estadistica', 'Sol', 30),\n",
    "    ('carlitos@googlemail.com', 'Computacion', 'Carlos', 60),\n",
    "    ('imprentadetata@vip.com', 'Periodismo', 'Luciano', 21)\n",
    "]\n",
    "\n",
    "#Maria Fernanda Castañeda Gonzalez\n",
    "cursor.executemany(\"INSERT INTO estudiantes VALUES (?,?,?,?)\", usuarios)\n",
    "\n",
    "#Maria Fernanda Castañeda Gonzalez\n",
    "conexion.commit()\n",
    "\n",
    "#Maria Fernanda Castañeda Gonzalez\n",
    "conexion.close()"
   ]
  },
  {
   "cell_type": "code",
   "execution_count": 9,
   "id": "04d89531",
   "metadata": {},
   "outputs": [
    {
     "name": "stdout",
     "output_type": "stream",
     "text": [
      "('marifer_cast17@gmail.com', 'Artes', 'Sharon', 27)\n",
      "('parrillaexquisita@vip.com', 'Arquitectura', 'Giulia', 26)\n",
      "('lollipopbusiness@vip.com', 'Contaduria', 'Rosana', 60)\n",
      "('solfernandez@googlemail.com', 'Estadistica', 'Sol', 30)\n",
      "('carlitos@googlemail.com', 'Computacion', 'Carlos', 60)\n",
      "('imprentadetata@vip.com', 'Periodismo', 'Luciano', 21)\n"
     ]
    }
   ],
   "source": [
    "#Maria Fernanda Castañeda Gonzalez\n",
    "conexion = sqlite3.connect('practica.db')\n",
    "cursor = conexion.cursor()\n",
    "\n",
    "#Recuperamos registros de la tabla\n",
    "cursor.execute(\"SELECT * FROM estudiantes\")\n",
    "#Maria Fernanda Castañeda Gonzalez\n",
    "usuarios = cursor.fetchall()\n",
    "\n",
    "#Print(usuarios)\n",
    "#Maria Fernanda Castañeda Gonzalez\n",
    "for u in usuarios:\n",
    "    print (u)\n",
    "    \n",
    "conexion.close()\n"
   ]
  },
  {
   "cell_type": "code",
   "execution_count": 11,
   "id": "7df2092d",
   "metadata": {},
   "outputs": [
    {
     "name": "stdout",
     "output_type": "stream",
     "text": [
      "[('marifer_cast17@gmail.com', 'Artes', 'Sharon', 27), ('parrillaexquisita@vip.com', 'Arquitectura', 'Giulia', 26), ('lollipopbusiness@vip.com', 'Contaduria', 'Rosana', 60), ('solfernandez@googlemail.com', 'Estadistica', 'Sol', 30), ('carlitos@googlemail.com', 'Computacion', 'Carlos', 60), ('imprentadetata@vip.com', 'Periodismo', 'Luciano', 21), ('marifer_cast17@gmail.com', 'Artes', 'Sharon', 27), ('parrillaexquisita@vip.com', 'Arquitectura', 'Giulia', 26), ('lollipopbusiness@vip.com', 'Contaduria', 'Rosana', 60), ('solfernandez@googlemail.com', 'Estadistica', 'Sol', 30), ('carlitos@googlemail.com', 'Computacion', 'Carlos', 60), ('imprentadetata@vip.com', 'Periodismo', 'Luciano', 21), ('paella@vip.com', 'Medicina', 'Giuliana', 27), ('crimewave@vip.com', 'Derecho', 'Alicia', 20), ('prince@orange.com', 'Ingenieria', 'William', 24), ('elrisortdewelini@vip.com', 'Nutrición', 'Chefsito', 25), ('planb@vip.com', 'Artes', 'Chencho', 30), ('channel@boyz.com', 'Letras', 'Frank', 32), ('vinos@aouju.com', 'Nutrición', 'Eugenia', 23)]\n"
     ]
    }
   ],
   "source": [
    "#Maria Fernanda Castañeda Gonzalez\n",
    "import sqlite3\n",
    "import csv\n",
    "\n",
    "#Maria Fernanda Castañeda Gonzalez\n",
    "conexion = sqlite3.connect(r\"C:\\Users\\marif\\Sistemas Basados en el conocimiento\\Base de Datos\\practica.db\")\n",
    "cursor = conexion.cursor()\n",
    "#Maria Fernanda Castañeda Gonzalez\n",
    "archivo = open(r\"C:\\Users\\marif\\Sistemas Basados en el conocimiento\\datos_db.txt\")\n",
    "#Maria Fernanda Castañeda Gonzalez\n",
    "filas = csv.reader(archivo)\n",
    "#Maria Fernanda Castañeda Gonzalez\n",
    "cursor.executemany(\"INSERT INTO estudiantes VALUES (?,?,?,?)\", filas)\n",
    "#Maria Fernanda Castañeda Gonzalez\n",
    "cursor.execute(\"SELECT * FROM estudiantes\")\n",
    "#Maria Fernanda Castañeda Gonzalez\n",
    "print(cursor.fetchall())\n",
    "#Maria Fernanda Castañeda Gonzalez\n",
    "conexion.commit()\n",
    "conexion.close()"
   ]
  },
  {
   "cell_type": "code",
   "execution_count": null,
   "id": "b840799e",
   "metadata": {},
   "outputs": [],
   "source": []
  }
 ],
 "metadata": {
  "kernelspec": {
   "display_name": "Python 3",
   "language": "python",
   "name": "python3"
  },
  "language_info": {
   "codemirror_mode": {
    "name": "ipython",
    "version": 3
   },
   "file_extension": ".py",
   "mimetype": "text/x-python",
   "name": "python",
   "nbconvert_exporter": "python",
   "pygments_lexer": "ipython3",
   "version": "3.8.8"
  }
 },
 "nbformat": 4,
 "nbformat_minor": 5
}
